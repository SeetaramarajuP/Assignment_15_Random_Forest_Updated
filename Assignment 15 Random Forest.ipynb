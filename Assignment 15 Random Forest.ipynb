{
  "cells": [
    {
      "metadata": {},
      "id": "734d67af",
      "cell_type": "markdown",
      "source": "# Compamy Data  Question 1"
    },
    {
      "metadata": {
        "ExecuteTime": {
          "end_time": "2023-08-02T09:39:54.226923Z",
          "start_time": "2023-08-02T09:39:54.202925Z"
        },
        "trusted": false
      },
      "id": "45fc4e98",
      "cell_type": "code",
      "source": "import pandas as pd \nfrom sklearn.model_selection import KFold\nfrom sklearn.model_selection import cross_val_score\nfrom sklearn.ensemble import BaggingClassifier\nfrom sklearn.tree import DecisionTreeClassifier",
      "execution_count": 82,
      "outputs": []
    },
    {
      "metadata": {
        "ExecuteTime": {
          "end_time": "2023-08-02T10:24:51.348586Z",
          "start_time": "2023-08-02T10:24:51.309608Z"
        },
        "trusted": false
      },
      "id": "091dcf3b",
      "cell_type": "code",
      "source": "company=pd.read_csv('Company_Data.csv')\ncompany",
      "execution_count": 170,
      "outputs": [
        {
          "data": {
            "text/html": "<div>\n<style scoped>\n    .dataframe tbody tr th:only-of-type {\n        vertical-align: middle;\n    }\n\n    .dataframe tbody tr th {\n        vertical-align: top;\n    }\n\n    .dataframe thead th {\n        text-align: right;\n    }\n</style>\n<table border=\"1\" class=\"dataframe\">\n  <thead>\n    <tr style=\"text-align: right;\">\n      <th></th>\n      <th>Sales</th>\n      <th>CompPrice</th>\n      <th>Income</th>\n      <th>Advertising</th>\n      <th>Population</th>\n      <th>Price</th>\n      <th>ShelveLoc</th>\n      <th>Age</th>\n      <th>Education</th>\n      <th>Urban</th>\n      <th>US</th>\n    </tr>\n  </thead>\n  <tbody>\n    <tr>\n      <th>0</th>\n      <td>9.50</td>\n      <td>138</td>\n      <td>73</td>\n      <td>11</td>\n      <td>276</td>\n      <td>120</td>\n      <td>Bad</td>\n      <td>42</td>\n      <td>17</td>\n      <td>Yes</td>\n      <td>Yes</td>\n    </tr>\n    <tr>\n      <th>1</th>\n      <td>11.22</td>\n      <td>111</td>\n      <td>48</td>\n      <td>16</td>\n      <td>260</td>\n      <td>83</td>\n      <td>Good</td>\n      <td>65</td>\n      <td>10</td>\n      <td>Yes</td>\n      <td>Yes</td>\n    </tr>\n    <tr>\n      <th>2</th>\n      <td>10.06</td>\n      <td>113</td>\n      <td>35</td>\n      <td>10</td>\n      <td>269</td>\n      <td>80</td>\n      <td>Medium</td>\n      <td>59</td>\n      <td>12</td>\n      <td>Yes</td>\n      <td>Yes</td>\n    </tr>\n    <tr>\n      <th>3</th>\n      <td>7.40</td>\n      <td>117</td>\n      <td>100</td>\n      <td>4</td>\n      <td>466</td>\n      <td>97</td>\n      <td>Medium</td>\n      <td>55</td>\n      <td>14</td>\n      <td>Yes</td>\n      <td>Yes</td>\n    </tr>\n    <tr>\n      <th>4</th>\n      <td>4.15</td>\n      <td>141</td>\n      <td>64</td>\n      <td>3</td>\n      <td>340</td>\n      <td>128</td>\n      <td>Bad</td>\n      <td>38</td>\n      <td>13</td>\n      <td>Yes</td>\n      <td>No</td>\n    </tr>\n    <tr>\n      <th>...</th>\n      <td>...</td>\n      <td>...</td>\n      <td>...</td>\n      <td>...</td>\n      <td>...</td>\n      <td>...</td>\n      <td>...</td>\n      <td>...</td>\n      <td>...</td>\n      <td>...</td>\n      <td>...</td>\n    </tr>\n    <tr>\n      <th>395</th>\n      <td>12.57</td>\n      <td>138</td>\n      <td>108</td>\n      <td>17</td>\n      <td>203</td>\n      <td>128</td>\n      <td>Good</td>\n      <td>33</td>\n      <td>14</td>\n      <td>Yes</td>\n      <td>Yes</td>\n    </tr>\n    <tr>\n      <th>396</th>\n      <td>6.14</td>\n      <td>139</td>\n      <td>23</td>\n      <td>3</td>\n      <td>37</td>\n      <td>120</td>\n      <td>Medium</td>\n      <td>55</td>\n      <td>11</td>\n      <td>No</td>\n      <td>Yes</td>\n    </tr>\n    <tr>\n      <th>397</th>\n      <td>7.41</td>\n      <td>162</td>\n      <td>26</td>\n      <td>12</td>\n      <td>368</td>\n      <td>159</td>\n      <td>Medium</td>\n      <td>40</td>\n      <td>18</td>\n      <td>Yes</td>\n      <td>Yes</td>\n    </tr>\n    <tr>\n      <th>398</th>\n      <td>5.94</td>\n      <td>100</td>\n      <td>79</td>\n      <td>7</td>\n      <td>284</td>\n      <td>95</td>\n      <td>Bad</td>\n      <td>50</td>\n      <td>12</td>\n      <td>Yes</td>\n      <td>Yes</td>\n    </tr>\n    <tr>\n      <th>399</th>\n      <td>9.71</td>\n      <td>134</td>\n      <td>37</td>\n      <td>0</td>\n      <td>27</td>\n      <td>120</td>\n      <td>Good</td>\n      <td>49</td>\n      <td>16</td>\n      <td>Yes</td>\n      <td>Yes</td>\n    </tr>\n  </tbody>\n</table>\n<p>400 rows × 11 columns</p>\n</div>",
            "text/plain": "     Sales  CompPrice  Income  Advertising  Population  Price ShelveLoc  Age  \\\n0     9.50        138      73           11         276    120       Bad   42   \n1    11.22        111      48           16         260     83      Good   65   \n2    10.06        113      35           10         269     80    Medium   59   \n3     7.40        117     100            4         466     97    Medium   55   \n4     4.15        141      64            3         340    128       Bad   38   \n..     ...        ...     ...          ...         ...    ...       ...  ...   \n395  12.57        138     108           17         203    128      Good   33   \n396   6.14        139      23            3          37    120    Medium   55   \n397   7.41        162      26           12         368    159    Medium   40   \n398   5.94        100      79            7         284     95       Bad   50   \n399   9.71        134      37            0          27    120      Good   49   \n\n     Education Urban   US  \n0           17   Yes  Yes  \n1           10   Yes  Yes  \n2           12   Yes  Yes  \n3           14   Yes  Yes  \n4           13   Yes   No  \n..         ...   ...  ...  \n395         14   Yes  Yes  \n396         11    No  Yes  \n397         18   Yes  Yes  \n398         12   Yes  Yes  \n399         16   Yes  Yes  \n\n[400 rows x 11 columns]"
          },
          "execution_count": 170,
          "metadata": {},
          "output_type": "execute_result"
        }
      ]
    },
    {
      "metadata": {
        "ExecuteTime": {
          "end_time": "2023-08-02T10:24:52.515918Z",
          "start_time": "2023-08-02T10:24:52.460950Z"
        },
        "trusted": false
      },
      "id": "853b16b3",
      "cell_type": "code",
      "source": "company['ShelveLoc']=company['ShelveLoc'].map({'Good':3,'Medium':2,'Bad':1})\ncompany",
      "execution_count": 171,
      "outputs": [
        {
          "data": {
            "text/html": "<div>\n<style scoped>\n    .dataframe tbody tr th:only-of-type {\n        vertical-align: middle;\n    }\n\n    .dataframe tbody tr th {\n        vertical-align: top;\n    }\n\n    .dataframe thead th {\n        text-align: right;\n    }\n</style>\n<table border=\"1\" class=\"dataframe\">\n  <thead>\n    <tr style=\"text-align: right;\">\n      <th></th>\n      <th>Sales</th>\n      <th>CompPrice</th>\n      <th>Income</th>\n      <th>Advertising</th>\n      <th>Population</th>\n      <th>Price</th>\n      <th>ShelveLoc</th>\n      <th>Age</th>\n      <th>Education</th>\n      <th>Urban</th>\n      <th>US</th>\n    </tr>\n  </thead>\n  <tbody>\n    <tr>\n      <th>0</th>\n      <td>9.50</td>\n      <td>138</td>\n      <td>73</td>\n      <td>11</td>\n      <td>276</td>\n      <td>120</td>\n      <td>1</td>\n      <td>42</td>\n      <td>17</td>\n      <td>Yes</td>\n      <td>Yes</td>\n    </tr>\n    <tr>\n      <th>1</th>\n      <td>11.22</td>\n      <td>111</td>\n      <td>48</td>\n      <td>16</td>\n      <td>260</td>\n      <td>83</td>\n      <td>3</td>\n      <td>65</td>\n      <td>10</td>\n      <td>Yes</td>\n      <td>Yes</td>\n    </tr>\n    <tr>\n      <th>2</th>\n      <td>10.06</td>\n      <td>113</td>\n      <td>35</td>\n      <td>10</td>\n      <td>269</td>\n      <td>80</td>\n      <td>2</td>\n      <td>59</td>\n      <td>12</td>\n      <td>Yes</td>\n      <td>Yes</td>\n    </tr>\n    <tr>\n      <th>3</th>\n      <td>7.40</td>\n      <td>117</td>\n      <td>100</td>\n      <td>4</td>\n      <td>466</td>\n      <td>97</td>\n      <td>2</td>\n      <td>55</td>\n      <td>14</td>\n      <td>Yes</td>\n      <td>Yes</td>\n    </tr>\n    <tr>\n      <th>4</th>\n      <td>4.15</td>\n      <td>141</td>\n      <td>64</td>\n      <td>3</td>\n      <td>340</td>\n      <td>128</td>\n      <td>1</td>\n      <td>38</td>\n      <td>13</td>\n      <td>Yes</td>\n      <td>No</td>\n    </tr>\n    <tr>\n      <th>...</th>\n      <td>...</td>\n      <td>...</td>\n      <td>...</td>\n      <td>...</td>\n      <td>...</td>\n      <td>...</td>\n      <td>...</td>\n      <td>...</td>\n      <td>...</td>\n      <td>...</td>\n      <td>...</td>\n    </tr>\n    <tr>\n      <th>395</th>\n      <td>12.57</td>\n      <td>138</td>\n      <td>108</td>\n      <td>17</td>\n      <td>203</td>\n      <td>128</td>\n      <td>3</td>\n      <td>33</td>\n      <td>14</td>\n      <td>Yes</td>\n      <td>Yes</td>\n    </tr>\n    <tr>\n      <th>396</th>\n      <td>6.14</td>\n      <td>139</td>\n      <td>23</td>\n      <td>3</td>\n      <td>37</td>\n      <td>120</td>\n      <td>2</td>\n      <td>55</td>\n      <td>11</td>\n      <td>No</td>\n      <td>Yes</td>\n    </tr>\n    <tr>\n      <th>397</th>\n      <td>7.41</td>\n      <td>162</td>\n      <td>26</td>\n      <td>12</td>\n      <td>368</td>\n      <td>159</td>\n      <td>2</td>\n      <td>40</td>\n      <td>18</td>\n      <td>Yes</td>\n      <td>Yes</td>\n    </tr>\n    <tr>\n      <th>398</th>\n      <td>5.94</td>\n      <td>100</td>\n      <td>79</td>\n      <td>7</td>\n      <td>284</td>\n      <td>95</td>\n      <td>1</td>\n      <td>50</td>\n      <td>12</td>\n      <td>Yes</td>\n      <td>Yes</td>\n    </tr>\n    <tr>\n      <th>399</th>\n      <td>9.71</td>\n      <td>134</td>\n      <td>37</td>\n      <td>0</td>\n      <td>27</td>\n      <td>120</td>\n      <td>3</td>\n      <td>49</td>\n      <td>16</td>\n      <td>Yes</td>\n      <td>Yes</td>\n    </tr>\n  </tbody>\n</table>\n<p>400 rows × 11 columns</p>\n</div>",
            "text/plain": "     Sales  CompPrice  Income  Advertising  Population  Price  ShelveLoc  Age  \\\n0     9.50        138      73           11         276    120          1   42   \n1    11.22        111      48           16         260     83          3   65   \n2    10.06        113      35           10         269     80          2   59   \n3     7.40        117     100            4         466     97          2   55   \n4     4.15        141      64            3         340    128          1   38   \n..     ...        ...     ...          ...         ...    ...        ...  ...   \n395  12.57        138     108           17         203    128          3   33   \n396   6.14        139      23            3          37    120          2   55   \n397   7.41        162      26           12         368    159          2   40   \n398   5.94        100      79            7         284     95          1   50   \n399   9.71        134      37            0          27    120          3   49   \n\n     Education Urban   US  \n0           17   Yes  Yes  \n1           10   Yes  Yes  \n2           12   Yes  Yes  \n3           14   Yes  Yes  \n4           13   Yes   No  \n..         ...   ...  ...  \n395         14   Yes  Yes  \n396         11    No  Yes  \n397         18   Yes  Yes  \n398         12   Yes  Yes  \n399         16   Yes  Yes  \n\n[400 rows x 11 columns]"
          },
          "execution_count": 171,
          "metadata": {},
          "output_type": "execute_result"
        }
      ]
    },
    {
      "metadata": {
        "ExecuteTime": {
          "end_time": "2023-08-02T10:24:53.460377Z",
          "start_time": "2023-08-02T10:24:53.423401Z"
        },
        "scrolled": true,
        "trusted": false
      },
      "id": "76c29a51",
      "cell_type": "code",
      "source": "company=pd.get_dummies(company,columns=['Urban','US'],drop_first=True)\ncompany\n",
      "execution_count": 172,
      "outputs": [
        {
          "data": {
            "text/html": "<div>\n<style scoped>\n    .dataframe tbody tr th:only-of-type {\n        vertical-align: middle;\n    }\n\n    .dataframe tbody tr th {\n        vertical-align: top;\n    }\n\n    .dataframe thead th {\n        text-align: right;\n    }\n</style>\n<table border=\"1\" class=\"dataframe\">\n  <thead>\n    <tr style=\"text-align: right;\">\n      <th></th>\n      <th>Sales</th>\n      <th>CompPrice</th>\n      <th>Income</th>\n      <th>Advertising</th>\n      <th>Population</th>\n      <th>Price</th>\n      <th>ShelveLoc</th>\n      <th>Age</th>\n      <th>Education</th>\n      <th>Urban_Yes</th>\n      <th>US_Yes</th>\n    </tr>\n  </thead>\n  <tbody>\n    <tr>\n      <th>0</th>\n      <td>9.50</td>\n      <td>138</td>\n      <td>73</td>\n      <td>11</td>\n      <td>276</td>\n      <td>120</td>\n      <td>1</td>\n      <td>42</td>\n      <td>17</td>\n      <td>1</td>\n      <td>1</td>\n    </tr>\n    <tr>\n      <th>1</th>\n      <td>11.22</td>\n      <td>111</td>\n      <td>48</td>\n      <td>16</td>\n      <td>260</td>\n      <td>83</td>\n      <td>3</td>\n      <td>65</td>\n      <td>10</td>\n      <td>1</td>\n      <td>1</td>\n    </tr>\n    <tr>\n      <th>2</th>\n      <td>10.06</td>\n      <td>113</td>\n      <td>35</td>\n      <td>10</td>\n      <td>269</td>\n      <td>80</td>\n      <td>2</td>\n      <td>59</td>\n      <td>12</td>\n      <td>1</td>\n      <td>1</td>\n    </tr>\n    <tr>\n      <th>3</th>\n      <td>7.40</td>\n      <td>117</td>\n      <td>100</td>\n      <td>4</td>\n      <td>466</td>\n      <td>97</td>\n      <td>2</td>\n      <td>55</td>\n      <td>14</td>\n      <td>1</td>\n      <td>1</td>\n    </tr>\n    <tr>\n      <th>4</th>\n      <td>4.15</td>\n      <td>141</td>\n      <td>64</td>\n      <td>3</td>\n      <td>340</td>\n      <td>128</td>\n      <td>1</td>\n      <td>38</td>\n      <td>13</td>\n      <td>1</td>\n      <td>0</td>\n    </tr>\n    <tr>\n      <th>...</th>\n      <td>...</td>\n      <td>...</td>\n      <td>...</td>\n      <td>...</td>\n      <td>...</td>\n      <td>...</td>\n      <td>...</td>\n      <td>...</td>\n      <td>...</td>\n      <td>...</td>\n      <td>...</td>\n    </tr>\n    <tr>\n      <th>395</th>\n      <td>12.57</td>\n      <td>138</td>\n      <td>108</td>\n      <td>17</td>\n      <td>203</td>\n      <td>128</td>\n      <td>3</td>\n      <td>33</td>\n      <td>14</td>\n      <td>1</td>\n      <td>1</td>\n    </tr>\n    <tr>\n      <th>396</th>\n      <td>6.14</td>\n      <td>139</td>\n      <td>23</td>\n      <td>3</td>\n      <td>37</td>\n      <td>120</td>\n      <td>2</td>\n      <td>55</td>\n      <td>11</td>\n      <td>0</td>\n      <td>1</td>\n    </tr>\n    <tr>\n      <th>397</th>\n      <td>7.41</td>\n      <td>162</td>\n      <td>26</td>\n      <td>12</td>\n      <td>368</td>\n      <td>159</td>\n      <td>2</td>\n      <td>40</td>\n      <td>18</td>\n      <td>1</td>\n      <td>1</td>\n    </tr>\n    <tr>\n      <th>398</th>\n      <td>5.94</td>\n      <td>100</td>\n      <td>79</td>\n      <td>7</td>\n      <td>284</td>\n      <td>95</td>\n      <td>1</td>\n      <td>50</td>\n      <td>12</td>\n      <td>1</td>\n      <td>1</td>\n    </tr>\n    <tr>\n      <th>399</th>\n      <td>9.71</td>\n      <td>134</td>\n      <td>37</td>\n      <td>0</td>\n      <td>27</td>\n      <td>120</td>\n      <td>3</td>\n      <td>49</td>\n      <td>16</td>\n      <td>1</td>\n      <td>1</td>\n    </tr>\n  </tbody>\n</table>\n<p>400 rows × 11 columns</p>\n</div>",
            "text/plain": "     Sales  CompPrice  Income  Advertising  Population  Price  ShelveLoc  Age  \\\n0     9.50        138      73           11         276    120          1   42   \n1    11.22        111      48           16         260     83          3   65   \n2    10.06        113      35           10         269     80          2   59   \n3     7.40        117     100            4         466     97          2   55   \n4     4.15        141      64            3         340    128          1   38   \n..     ...        ...     ...          ...         ...    ...        ...  ...   \n395  12.57        138     108           17         203    128          3   33   \n396   6.14        139      23            3          37    120          2   55   \n397   7.41        162      26           12         368    159          2   40   \n398   5.94        100      79            7         284     95          1   50   \n399   9.71        134      37            0          27    120          3   49   \n\n     Education  Urban_Yes  US_Yes  \n0           17          1       1  \n1           10          1       1  \n2           12          1       1  \n3           14          1       1  \n4           13          1       0  \n..         ...        ...     ...  \n395         14          1       1  \n396         11          0       1  \n397         18          1       1  \n398         12          1       1  \n399         16          1       1  \n\n[400 rows x 11 columns]"
          },
          "execution_count": 172,
          "metadata": {},
          "output_type": "execute_result"
        }
      ]
    },
    {
      "metadata": {
        "ExecuteTime": {
          "end_time": "2023-08-02T10:24:55.406264Z",
          "start_time": "2023-08-02T10:24:55.359294Z"
        },
        "trusted": false
      },
      "id": "a7e3706f",
      "cell_type": "code",
      "source": "company['Sales'] = pd.cut(x=company['Sales'], bins=[0, 5, 10, 15,20,100],labels=['Poor','Below Average','Good','Very Good','Excellect'])\ncompany",
      "execution_count": 173,
      "outputs": [
        {
          "data": {
            "text/html": "<div>\n<style scoped>\n    .dataframe tbody tr th:only-of-type {\n        vertical-align: middle;\n    }\n\n    .dataframe tbody tr th {\n        vertical-align: top;\n    }\n\n    .dataframe thead th {\n        text-align: right;\n    }\n</style>\n<table border=\"1\" class=\"dataframe\">\n  <thead>\n    <tr style=\"text-align: right;\">\n      <th></th>\n      <th>Sales</th>\n      <th>CompPrice</th>\n      <th>Income</th>\n      <th>Advertising</th>\n      <th>Population</th>\n      <th>Price</th>\n      <th>ShelveLoc</th>\n      <th>Age</th>\n      <th>Education</th>\n      <th>Urban_Yes</th>\n      <th>US_Yes</th>\n    </tr>\n  </thead>\n  <tbody>\n    <tr>\n      <th>0</th>\n      <td>Below Average</td>\n      <td>138</td>\n      <td>73</td>\n      <td>11</td>\n      <td>276</td>\n      <td>120</td>\n      <td>1</td>\n      <td>42</td>\n      <td>17</td>\n      <td>1</td>\n      <td>1</td>\n    </tr>\n    <tr>\n      <th>1</th>\n      <td>Good</td>\n      <td>111</td>\n      <td>48</td>\n      <td>16</td>\n      <td>260</td>\n      <td>83</td>\n      <td>3</td>\n      <td>65</td>\n      <td>10</td>\n      <td>1</td>\n      <td>1</td>\n    </tr>\n    <tr>\n      <th>2</th>\n      <td>Good</td>\n      <td>113</td>\n      <td>35</td>\n      <td>10</td>\n      <td>269</td>\n      <td>80</td>\n      <td>2</td>\n      <td>59</td>\n      <td>12</td>\n      <td>1</td>\n      <td>1</td>\n    </tr>\n    <tr>\n      <th>3</th>\n      <td>Below Average</td>\n      <td>117</td>\n      <td>100</td>\n      <td>4</td>\n      <td>466</td>\n      <td>97</td>\n      <td>2</td>\n      <td>55</td>\n      <td>14</td>\n      <td>1</td>\n      <td>1</td>\n    </tr>\n    <tr>\n      <th>4</th>\n      <td>Poor</td>\n      <td>141</td>\n      <td>64</td>\n      <td>3</td>\n      <td>340</td>\n      <td>128</td>\n      <td>1</td>\n      <td>38</td>\n      <td>13</td>\n      <td>1</td>\n      <td>0</td>\n    </tr>\n    <tr>\n      <th>...</th>\n      <td>...</td>\n      <td>...</td>\n      <td>...</td>\n      <td>...</td>\n      <td>...</td>\n      <td>...</td>\n      <td>...</td>\n      <td>...</td>\n      <td>...</td>\n      <td>...</td>\n      <td>...</td>\n    </tr>\n    <tr>\n      <th>395</th>\n      <td>Good</td>\n      <td>138</td>\n      <td>108</td>\n      <td>17</td>\n      <td>203</td>\n      <td>128</td>\n      <td>3</td>\n      <td>33</td>\n      <td>14</td>\n      <td>1</td>\n      <td>1</td>\n    </tr>\n    <tr>\n      <th>396</th>\n      <td>Below Average</td>\n      <td>139</td>\n      <td>23</td>\n      <td>3</td>\n      <td>37</td>\n      <td>120</td>\n      <td>2</td>\n      <td>55</td>\n      <td>11</td>\n      <td>0</td>\n      <td>1</td>\n    </tr>\n    <tr>\n      <th>397</th>\n      <td>Below Average</td>\n      <td>162</td>\n      <td>26</td>\n      <td>12</td>\n      <td>368</td>\n      <td>159</td>\n      <td>2</td>\n      <td>40</td>\n      <td>18</td>\n      <td>1</td>\n      <td>1</td>\n    </tr>\n    <tr>\n      <th>398</th>\n      <td>Below Average</td>\n      <td>100</td>\n      <td>79</td>\n      <td>7</td>\n      <td>284</td>\n      <td>95</td>\n      <td>1</td>\n      <td>50</td>\n      <td>12</td>\n      <td>1</td>\n      <td>1</td>\n    </tr>\n    <tr>\n      <th>399</th>\n      <td>Below Average</td>\n      <td>134</td>\n      <td>37</td>\n      <td>0</td>\n      <td>27</td>\n      <td>120</td>\n      <td>3</td>\n      <td>49</td>\n      <td>16</td>\n      <td>1</td>\n      <td>1</td>\n    </tr>\n  </tbody>\n</table>\n<p>400 rows × 11 columns</p>\n</div>",
            "text/plain": "             Sales  CompPrice  Income  Advertising  Population  Price  \\\n0    Below Average        138      73           11         276    120   \n1             Good        111      48           16         260     83   \n2             Good        113      35           10         269     80   \n3    Below Average        117     100            4         466     97   \n4             Poor        141      64            3         340    128   \n..             ...        ...     ...          ...         ...    ...   \n395           Good        138     108           17         203    128   \n396  Below Average        139      23            3          37    120   \n397  Below Average        162      26           12         368    159   \n398  Below Average        100      79            7         284     95   \n399  Below Average        134      37            0          27    120   \n\n     ShelveLoc  Age  Education  Urban_Yes  US_Yes  \n0            1   42         17          1       1  \n1            3   65         10          1       1  \n2            2   59         12          1       1  \n3            2   55         14          1       1  \n4            1   38         13          1       0  \n..         ...  ...        ...        ...     ...  \n395          3   33         14          1       1  \n396          2   55         11          0       1  \n397          2   40         18          1       1  \n398          1   50         12          1       1  \n399          3   49         16          1       1  \n\n[400 rows x 11 columns]"
          },
          "execution_count": 173,
          "metadata": {},
          "output_type": "execute_result"
        }
      ]
    },
    {
      "metadata": {
        "ExecuteTime": {
          "end_time": "2023-08-02T10:25:02.950953Z",
          "start_time": "2023-08-02T10:25:02.896985Z"
        },
        "trusted": false
      },
      "id": "4592561e",
      "cell_type": "code",
      "source": "company['Sales']=company['Sales'].map({'Poor':1,'Below Average':2,'Good':3,'Very Good':4,'Excellent':5})\ncompany",
      "execution_count": 174,
      "outputs": [
        {
          "data": {
            "text/html": "<div>\n<style scoped>\n    .dataframe tbody tr th:only-of-type {\n        vertical-align: middle;\n    }\n\n    .dataframe tbody tr th {\n        vertical-align: top;\n    }\n\n    .dataframe thead th {\n        text-align: right;\n    }\n</style>\n<table border=\"1\" class=\"dataframe\">\n  <thead>\n    <tr style=\"text-align: right;\">\n      <th></th>\n      <th>Sales</th>\n      <th>CompPrice</th>\n      <th>Income</th>\n      <th>Advertising</th>\n      <th>Population</th>\n      <th>Price</th>\n      <th>ShelveLoc</th>\n      <th>Age</th>\n      <th>Education</th>\n      <th>Urban_Yes</th>\n      <th>US_Yes</th>\n    </tr>\n  </thead>\n  <tbody>\n    <tr>\n      <th>0</th>\n      <td>2.0</td>\n      <td>138</td>\n      <td>73</td>\n      <td>11</td>\n      <td>276</td>\n      <td>120</td>\n      <td>1</td>\n      <td>42</td>\n      <td>17</td>\n      <td>1</td>\n      <td>1</td>\n    </tr>\n    <tr>\n      <th>1</th>\n      <td>3.0</td>\n      <td>111</td>\n      <td>48</td>\n      <td>16</td>\n      <td>260</td>\n      <td>83</td>\n      <td>3</td>\n      <td>65</td>\n      <td>10</td>\n      <td>1</td>\n      <td>1</td>\n    </tr>\n    <tr>\n      <th>2</th>\n      <td>3.0</td>\n      <td>113</td>\n      <td>35</td>\n      <td>10</td>\n      <td>269</td>\n      <td>80</td>\n      <td>2</td>\n      <td>59</td>\n      <td>12</td>\n      <td>1</td>\n      <td>1</td>\n    </tr>\n    <tr>\n      <th>3</th>\n      <td>2.0</td>\n      <td>117</td>\n      <td>100</td>\n      <td>4</td>\n      <td>466</td>\n      <td>97</td>\n      <td>2</td>\n      <td>55</td>\n      <td>14</td>\n      <td>1</td>\n      <td>1</td>\n    </tr>\n    <tr>\n      <th>4</th>\n      <td>1.0</td>\n      <td>141</td>\n      <td>64</td>\n      <td>3</td>\n      <td>340</td>\n      <td>128</td>\n      <td>1</td>\n      <td>38</td>\n      <td>13</td>\n      <td>1</td>\n      <td>0</td>\n    </tr>\n    <tr>\n      <th>...</th>\n      <td>...</td>\n      <td>...</td>\n      <td>...</td>\n      <td>...</td>\n      <td>...</td>\n      <td>...</td>\n      <td>...</td>\n      <td>...</td>\n      <td>...</td>\n      <td>...</td>\n      <td>...</td>\n    </tr>\n    <tr>\n      <th>395</th>\n      <td>3.0</td>\n      <td>138</td>\n      <td>108</td>\n      <td>17</td>\n      <td>203</td>\n      <td>128</td>\n      <td>3</td>\n      <td>33</td>\n      <td>14</td>\n      <td>1</td>\n      <td>1</td>\n    </tr>\n    <tr>\n      <th>396</th>\n      <td>2.0</td>\n      <td>139</td>\n      <td>23</td>\n      <td>3</td>\n      <td>37</td>\n      <td>120</td>\n      <td>2</td>\n      <td>55</td>\n      <td>11</td>\n      <td>0</td>\n      <td>1</td>\n    </tr>\n    <tr>\n      <th>397</th>\n      <td>2.0</td>\n      <td>162</td>\n      <td>26</td>\n      <td>12</td>\n      <td>368</td>\n      <td>159</td>\n      <td>2</td>\n      <td>40</td>\n      <td>18</td>\n      <td>1</td>\n      <td>1</td>\n    </tr>\n    <tr>\n      <th>398</th>\n      <td>2.0</td>\n      <td>100</td>\n      <td>79</td>\n      <td>7</td>\n      <td>284</td>\n      <td>95</td>\n      <td>1</td>\n      <td>50</td>\n      <td>12</td>\n      <td>1</td>\n      <td>1</td>\n    </tr>\n    <tr>\n      <th>399</th>\n      <td>2.0</td>\n      <td>134</td>\n      <td>37</td>\n      <td>0</td>\n      <td>27</td>\n      <td>120</td>\n      <td>3</td>\n      <td>49</td>\n      <td>16</td>\n      <td>1</td>\n      <td>1</td>\n    </tr>\n  </tbody>\n</table>\n<p>400 rows × 11 columns</p>\n</div>",
            "text/plain": "     Sales  CompPrice  Income  Advertising  Population  Price  ShelveLoc  Age  \\\n0      2.0        138      73           11         276    120          1   42   \n1      3.0        111      48           16         260     83          3   65   \n2      3.0        113      35           10         269     80          2   59   \n3      2.0        117     100            4         466     97          2   55   \n4      1.0        141      64            3         340    128          1   38   \n..     ...        ...     ...          ...         ...    ...        ...  ...   \n395    3.0        138     108           17         203    128          3   33   \n396    2.0        139      23            3          37    120          2   55   \n397    2.0        162      26           12         368    159          2   40   \n398    2.0        100      79            7         284     95          1   50   \n399    2.0        134      37            0          27    120          3   49   \n\n     Education  Urban_Yes  US_Yes  \n0           17          1       1  \n1           10          1       1  \n2           12          1       1  \n3           14          1       1  \n4           13          1       0  \n..         ...        ...     ...  \n395         14          1       1  \n396         11          0       1  \n397         18          1       1  \n398         12          1       1  \n399         16          1       1  \n\n[400 rows x 11 columns]"
          },
          "execution_count": 174,
          "metadata": {},
          "output_type": "execute_result"
        }
      ]
    },
    {
      "metadata": {
        "ExecuteTime": {
          "end_time": "2023-08-02T10:25:05.051750Z",
          "start_time": "2023-08-02T10:25:05.022769Z"
        },
        "trusted": false
      },
      "id": "0191d08e",
      "cell_type": "code",
      "source": "company.info()",
      "execution_count": 175,
      "outputs": [
        {
          "name": "stdout",
          "output_type": "stream",
          "text": "<class 'pandas.core.frame.DataFrame'>\nRangeIndex: 400 entries, 0 to 399\nData columns (total 11 columns):\n #   Column       Non-Null Count  Dtype  \n---  ------       --------------  -----  \n 0   Sales        399 non-null    float64\n 1   CompPrice    400 non-null    int64  \n 2   Income       400 non-null    int64  \n 3   Advertising  400 non-null    int64  \n 4   Population   400 non-null    int64  \n 5   Price        400 non-null    int64  \n 6   ShelveLoc    400 non-null    int64  \n 7   Age          400 non-null    int64  \n 8   Education    400 non-null    int64  \n 9   Urban_Yes    400 non-null    uint8  \n 10  US_Yes       400 non-null    uint8  \ndtypes: float64(1), int64(8), uint8(2)\nmemory usage: 29.0 KB\n"
        }
      ]
    },
    {
      "metadata": {
        "ExecuteTime": {
          "end_time": "2023-08-02T10:26:52.578275Z",
          "start_time": "2023-08-02T10:26:52.556289Z"
        },
        "trusted": false
      },
      "id": "824b793a",
      "cell_type": "code",
      "source": "company=company.dropna()",
      "execution_count": 177,
      "outputs": []
    },
    {
      "metadata": {
        "ExecuteTime": {
          "end_time": "2023-08-02T10:28:47.185753Z",
          "start_time": "2023-08-02T10:28:47.125787Z"
        },
        "trusted": false
      },
      "id": "3bb7d250",
      "cell_type": "code",
      "source": "company['Sales']=company['Sales'].astype(int)",
      "execution_count": 182,
      "outputs": [
        {
          "name": "stderr",
          "output_type": "stream",
          "text": "C:\\Users\\DELL\\AppData\\Local\\Temp\\ipykernel_5452\\3973343815.py:1: SettingWithCopyWarning: \nA value is trying to be set on a copy of a slice from a DataFrame.\nTry using .loc[row_indexer,col_indexer] = value instead\n\nSee the caveats in the documentation: https://pandas.pydata.org/pandas-docs/stable/user_guide/indexing.html#returning-a-view-versus-a-copy\n  company['Sales']=company['Sales'].astype(int)\n"
        }
      ]
    },
    {
      "metadata": {
        "ExecuteTime": {
          "end_time": "2023-08-02T10:28:50.662763Z",
          "start_time": "2023-08-02T10:28:50.613793Z"
        },
        "trusted": false
      },
      "id": "c790a9df",
      "cell_type": "code",
      "source": "company.corr()",
      "execution_count": 183,
      "outputs": [
        {
          "data": {
            "text/html": "<div>\n<style scoped>\n    .dataframe tbody tr th:only-of-type {\n        vertical-align: middle;\n    }\n\n    .dataframe tbody tr th {\n        vertical-align: top;\n    }\n\n    .dataframe thead th {\n        text-align: right;\n    }\n</style>\n<table border=\"1\" class=\"dataframe\">\n  <thead>\n    <tr style=\"text-align: right;\">\n      <th></th>\n      <th>Sales</th>\n      <th>CompPrice</th>\n      <th>Income</th>\n      <th>Advertising</th>\n      <th>Population</th>\n      <th>Price</th>\n      <th>ShelveLoc</th>\n      <th>Age</th>\n      <th>Education</th>\n      <th>Urban_Yes</th>\n      <th>US_Yes</th>\n    </tr>\n  </thead>\n  <tbody>\n    <tr>\n      <th>Sales</th>\n      <td>1.000000</td>\n      <td>0.056652</td>\n      <td>0.123010</td>\n      <td>0.246360</td>\n      <td>0.026001</td>\n      <td>-0.375611</td>\n      <td>0.488848</td>\n      <td>-0.231146</td>\n      <td>-0.014487</td>\n      <td>0.001504</td>\n      <td>0.152475</td>\n    </tr>\n    <tr>\n      <th>CompPrice</th>\n      <td>0.056652</td>\n      <td>1.000000</td>\n      <td>-0.077315</td>\n      <td>-0.021957</td>\n      <td>-0.096309</td>\n      <td>0.585053</td>\n      <td>0.038496</td>\n      <td>-0.104320</td>\n      <td>0.024263</td>\n      <td>0.070427</td>\n      <td>0.020029</td>\n    </tr>\n    <tr>\n      <th>Income</th>\n      <td>0.123010</td>\n      <td>-0.077315</td>\n      <td>1.000000</td>\n      <td>0.055241</td>\n      <td>-0.005362</td>\n      <td>-0.045616</td>\n      <td>-0.053473</td>\n      <td>0.001695</td>\n      <td>-0.055362</td>\n      <td>0.031975</td>\n      <td>0.084668</td>\n    </tr>\n    <tr>\n      <th>Advertising</th>\n      <td>0.246360</td>\n      <td>-0.021957</td>\n      <td>0.055241</td>\n      <td>1.000000</td>\n      <td>0.267706</td>\n      <td>0.052495</td>\n      <td>0.056726</td>\n      <td>-0.000587</td>\n      <td>-0.032590</td>\n      <td>0.038327</td>\n      <td>0.683497</td>\n    </tr>\n    <tr>\n      <th>Population</th>\n      <td>0.026001</td>\n      <td>-0.096309</td>\n      <td>-0.005362</td>\n      <td>0.267706</td>\n      <td>1.000000</td>\n      <td>-0.016978</td>\n      <td>-0.020690</td>\n      <td>-0.045347</td>\n      <td>-0.107122</td>\n      <td>-0.049747</td>\n      <td>0.062877</td>\n    </tr>\n    <tr>\n      <th>Price</th>\n      <td>-0.375611</td>\n      <td>0.585053</td>\n      <td>-0.045616</td>\n      <td>0.052495</td>\n      <td>-0.016978</td>\n      <td>1.000000</td>\n      <td>0.051176</td>\n      <td>-0.115424</td>\n      <td>0.008760</td>\n      <td>0.059169</td>\n      <td>0.068644</td>\n    </tr>\n    <tr>\n      <th>ShelveLoc</th>\n      <td>0.488848</td>\n      <td>0.038496</td>\n      <td>-0.053473</td>\n      <td>0.056726</td>\n      <td>-0.020690</td>\n      <td>0.051176</td>\n      <td>1.000000</td>\n      <td>0.014031</td>\n      <td>-0.025772</td>\n      <td>-0.075472</td>\n      <td>0.047625</td>\n    </tr>\n    <tr>\n      <th>Age</th>\n      <td>-0.231146</td>\n      <td>-0.104320</td>\n      <td>0.001695</td>\n      <td>-0.000587</td>\n      <td>-0.045347</td>\n      <td>-0.115424</td>\n      <td>0.014031</td>\n      <td>1.000000</td>\n      <td>0.004833</td>\n      <td>0.034842</td>\n      <td>0.014090</td>\n    </tr>\n    <tr>\n      <th>Education</th>\n      <td>-0.014487</td>\n      <td>0.024263</td>\n      <td>-0.055362</td>\n      <td>-0.032590</td>\n      <td>-0.107122</td>\n      <td>0.008760</td>\n      <td>-0.025772</td>\n      <td>0.004833</td>\n      <td>1.000000</td>\n      <td>-0.031567</td>\n      <td>-0.077023</td>\n    </tr>\n    <tr>\n      <th>Urban_Yes</th>\n      <td>0.001504</td>\n      <td>0.070427</td>\n      <td>0.031975</td>\n      <td>0.038327</td>\n      <td>-0.049747</td>\n      <td>0.059169</td>\n      <td>-0.075472</td>\n      <td>0.034842</td>\n      <td>-0.031567</td>\n      <td>1.000000</td>\n      <td>0.042084</td>\n    </tr>\n    <tr>\n      <th>US_Yes</th>\n      <td>0.152475</td>\n      <td>0.020029</td>\n      <td>0.084668</td>\n      <td>0.683497</td>\n      <td>0.062877</td>\n      <td>0.068644</td>\n      <td>0.047625</td>\n      <td>0.014090</td>\n      <td>-0.077023</td>\n      <td>0.042084</td>\n      <td>1.000000</td>\n    </tr>\n  </tbody>\n</table>\n</div>",
            "text/plain": "                Sales  CompPrice    Income  Advertising  Population     Price  \\\nSales        1.000000   0.056652  0.123010     0.246360    0.026001 -0.375611   \nCompPrice    0.056652   1.000000 -0.077315    -0.021957   -0.096309  0.585053   \nIncome       0.123010  -0.077315  1.000000     0.055241   -0.005362 -0.045616   \nAdvertising  0.246360  -0.021957  0.055241     1.000000    0.267706  0.052495   \nPopulation   0.026001  -0.096309 -0.005362     0.267706    1.000000 -0.016978   \nPrice       -0.375611   0.585053 -0.045616     0.052495   -0.016978  1.000000   \nShelveLoc    0.488848   0.038496 -0.053473     0.056726   -0.020690  0.051176   \nAge         -0.231146  -0.104320  0.001695    -0.000587   -0.045347 -0.115424   \nEducation   -0.014487   0.024263 -0.055362    -0.032590   -0.107122  0.008760   \nUrban_Yes    0.001504   0.070427  0.031975     0.038327   -0.049747  0.059169   \nUS_Yes       0.152475   0.020029  0.084668     0.683497    0.062877  0.068644   \n\n             ShelveLoc       Age  Education  Urban_Yes    US_Yes  \nSales         0.488848 -0.231146  -0.014487   0.001504  0.152475  \nCompPrice     0.038496 -0.104320   0.024263   0.070427  0.020029  \nIncome       -0.053473  0.001695  -0.055362   0.031975  0.084668  \nAdvertising   0.056726 -0.000587  -0.032590   0.038327  0.683497  \nPopulation   -0.020690 -0.045347  -0.107122  -0.049747  0.062877  \nPrice         0.051176 -0.115424   0.008760   0.059169  0.068644  \nShelveLoc     1.000000  0.014031  -0.025772  -0.075472  0.047625  \nAge           0.014031  1.000000   0.004833   0.034842  0.014090  \nEducation    -0.025772  0.004833   1.000000  -0.031567 -0.077023  \nUrban_Yes    -0.075472  0.034842  -0.031567   1.000000  0.042084  \nUS_Yes        0.047625  0.014090  -0.077023   0.042084  1.000000  "
          },
          "execution_count": 183,
          "metadata": {},
          "output_type": "execute_result"
        }
      ]
    },
    {
      "metadata": {
        "ExecuteTime": {
          "end_time": "2023-08-02T10:28:52.791547Z",
          "start_time": "2023-08-02T10:28:52.754569Z"
        },
        "trusted": false
      },
      "id": "86d72b00",
      "cell_type": "code",
      "source": "x=company.iloc[:,1:]\ny=company['Sales']\nx",
      "execution_count": 184,
      "outputs": [
        {
          "data": {
            "text/html": "<div>\n<style scoped>\n    .dataframe tbody tr th:only-of-type {\n        vertical-align: middle;\n    }\n\n    .dataframe tbody tr th {\n        vertical-align: top;\n    }\n\n    .dataframe thead th {\n        text-align: right;\n    }\n</style>\n<table border=\"1\" class=\"dataframe\">\n  <thead>\n    <tr style=\"text-align: right;\">\n      <th></th>\n      <th>CompPrice</th>\n      <th>Income</th>\n      <th>Advertising</th>\n      <th>Population</th>\n      <th>Price</th>\n      <th>ShelveLoc</th>\n      <th>Age</th>\n      <th>Education</th>\n      <th>Urban_Yes</th>\n      <th>US_Yes</th>\n    </tr>\n  </thead>\n  <tbody>\n    <tr>\n      <th>0</th>\n      <td>138</td>\n      <td>73</td>\n      <td>11</td>\n      <td>276</td>\n      <td>120</td>\n      <td>1</td>\n      <td>42</td>\n      <td>17</td>\n      <td>1</td>\n      <td>1</td>\n    </tr>\n    <tr>\n      <th>1</th>\n      <td>111</td>\n      <td>48</td>\n      <td>16</td>\n      <td>260</td>\n      <td>83</td>\n      <td>3</td>\n      <td>65</td>\n      <td>10</td>\n      <td>1</td>\n      <td>1</td>\n    </tr>\n    <tr>\n      <th>2</th>\n      <td>113</td>\n      <td>35</td>\n      <td>10</td>\n      <td>269</td>\n      <td>80</td>\n      <td>2</td>\n      <td>59</td>\n      <td>12</td>\n      <td>1</td>\n      <td>1</td>\n    </tr>\n    <tr>\n      <th>3</th>\n      <td>117</td>\n      <td>100</td>\n      <td>4</td>\n      <td>466</td>\n      <td>97</td>\n      <td>2</td>\n      <td>55</td>\n      <td>14</td>\n      <td>1</td>\n      <td>1</td>\n    </tr>\n    <tr>\n      <th>4</th>\n      <td>141</td>\n      <td>64</td>\n      <td>3</td>\n      <td>340</td>\n      <td>128</td>\n      <td>1</td>\n      <td>38</td>\n      <td>13</td>\n      <td>1</td>\n      <td>0</td>\n    </tr>\n    <tr>\n      <th>...</th>\n      <td>...</td>\n      <td>...</td>\n      <td>...</td>\n      <td>...</td>\n      <td>...</td>\n      <td>...</td>\n      <td>...</td>\n      <td>...</td>\n      <td>...</td>\n      <td>...</td>\n    </tr>\n    <tr>\n      <th>395</th>\n      <td>138</td>\n      <td>108</td>\n      <td>17</td>\n      <td>203</td>\n      <td>128</td>\n      <td>3</td>\n      <td>33</td>\n      <td>14</td>\n      <td>1</td>\n      <td>1</td>\n    </tr>\n    <tr>\n      <th>396</th>\n      <td>139</td>\n      <td>23</td>\n      <td>3</td>\n      <td>37</td>\n      <td>120</td>\n      <td>2</td>\n      <td>55</td>\n      <td>11</td>\n      <td>0</td>\n      <td>1</td>\n    </tr>\n    <tr>\n      <th>397</th>\n      <td>162</td>\n      <td>26</td>\n      <td>12</td>\n      <td>368</td>\n      <td>159</td>\n      <td>2</td>\n      <td>40</td>\n      <td>18</td>\n      <td>1</td>\n      <td>1</td>\n    </tr>\n    <tr>\n      <th>398</th>\n      <td>100</td>\n      <td>79</td>\n      <td>7</td>\n      <td>284</td>\n      <td>95</td>\n      <td>1</td>\n      <td>50</td>\n      <td>12</td>\n      <td>1</td>\n      <td>1</td>\n    </tr>\n    <tr>\n      <th>399</th>\n      <td>134</td>\n      <td>37</td>\n      <td>0</td>\n      <td>27</td>\n      <td>120</td>\n      <td>3</td>\n      <td>49</td>\n      <td>16</td>\n      <td>1</td>\n      <td>1</td>\n    </tr>\n  </tbody>\n</table>\n<p>399 rows × 10 columns</p>\n</div>",
            "text/plain": "     CompPrice  Income  Advertising  Population  Price  ShelveLoc  Age  \\\n0          138      73           11         276    120          1   42   \n1          111      48           16         260     83          3   65   \n2          113      35           10         269     80          2   59   \n3          117     100            4         466     97          2   55   \n4          141      64            3         340    128          1   38   \n..         ...     ...          ...         ...    ...        ...  ...   \n395        138     108           17         203    128          3   33   \n396        139      23            3          37    120          2   55   \n397        162      26           12         368    159          2   40   \n398        100      79            7         284     95          1   50   \n399        134      37            0          27    120          3   49   \n\n     Education  Urban_Yes  US_Yes  \n0           17          1       1  \n1           10          1       1  \n2           12          1       1  \n3           14          1       1  \n4           13          1       0  \n..         ...        ...     ...  \n395         14          1       1  \n396         11          0       1  \n397         18          1       1  \n398         12          1       1  \n399         16          1       1  \n\n[399 rows x 10 columns]"
          },
          "execution_count": 184,
          "metadata": {},
          "output_type": "execute_result"
        }
      ]
    },
    {
      "metadata": {
        "ExecuteTime": {
          "end_time": "2023-08-02T10:28:54.204739Z",
          "start_time": "2023-08-02T10:28:54.184755Z"
        },
        "trusted": false
      },
      "id": "f662a345",
      "cell_type": "code",
      "source": "y",
      "execution_count": 185,
      "outputs": [
        {
          "data": {
            "text/plain": "0      2\n1      3\n2      3\n3      2\n4      1\n      ..\n395    3\n396    2\n397    2\n398    2\n399    2\nName: Sales, Length: 399, dtype: int32"
          },
          "execution_count": 185,
          "metadata": {},
          "output_type": "execute_result"
        }
      ]
    },
    {
      "metadata": {
        "ExecuteTime": {
          "end_time": "2023-08-02T10:29:03.889531Z",
          "start_time": "2023-08-02T10:29:02.048256Z"
        },
        "trusted": false
      },
      "id": "7d7aae07",
      "cell_type": "code",
      "source": "seed=3\nnum_trees=30\nKfold=KFold(n_splits=10,random_state=seed,shuffle=True)\ncart=DecisionTreeClassifier()\nmodel_B_1=BaggingClassifier(base_estimator=cart,n_estimators=num_trees,random_state=seed)\nResult=cross_val_score(model_B_1,x,y,cv=Kfold)\nprint(Result.mean())",
      "execution_count": 186,
      "outputs": [
        {
          "name": "stdout",
          "output_type": "stream",
          "text": "0.6943589743589744\n"
        }
      ]
    },
    {
      "metadata": {
        "ExecuteTime": {
          "end_time": "2023-08-02T10:29:09.574293Z",
          "start_time": "2023-08-02T10:29:09.558304Z"
        },
        "trusted": false
      },
      "id": "831d06de",
      "cell_type": "code",
      "source": "from sklearn.ensemble import RandomForestClassifier\nX=company.drop(['Sales'],axis=1)\nY=company['Sales']",
      "execution_count": 187,
      "outputs": []
    },
    {
      "metadata": {
        "ExecuteTime": {
          "end_time": "2023-08-02T10:29:12.799622Z",
          "start_time": "2023-08-02T10:29:11.549192Z"
        },
        "trusted": false
      },
      "id": "7ec6d169",
      "cell_type": "code",
      "source": "num_trees=30 \nKfold=KFold(n_splits=10,random_state=seed,shuffle=True)\nmodel_RF_1=RandomForestClassifier(n_estimators=num_trees,max_features=3)\nResult=cross_val_score(model_RF_1,X,Y,cv=Kfold)\nprint(Result.mean())",
      "execution_count": 188,
      "outputs": [
        {
          "name": "stdout",
          "output_type": "stream",
          "text": "0.6868589743589743\n"
        }
      ]
    },
    {
      "metadata": {
        "ExecuteTime": {
          "end_time": "2023-08-02T10:29:38.548898Z",
          "start_time": "2023-08-02T10:29:38.527915Z"
        },
        "trusted": false
      },
      "id": "f6b15153",
      "cell_type": "code",
      "source": "from sklearn.model_selection import train_test_split\nx_train,x_test,y_train,y_test=train_test_split(x,y,test_size=0.2,random_state=3)",
      "execution_count": 189,
      "outputs": []
    },
    {
      "metadata": {
        "ExecuteTime": {
          "end_time": "2023-08-02T10:29:51.605007Z",
          "start_time": "2023-08-02T10:29:51.409189Z"
        },
        "trusted": false
      },
      "id": "5080f8ee",
      "cell_type": "code",
      "source": "model_B_1.fit(x_train,y_train)",
      "execution_count": 190,
      "outputs": [
        {
          "data": {
            "text/plain": "BaggingClassifier(base_estimator=DecisionTreeClassifier(), n_estimators=30,\n                  random_state=3)"
          },
          "execution_count": 190,
          "metadata": {},
          "output_type": "execute_result"
        }
      ]
    },
    {
      "metadata": {
        "ExecuteTime": {
          "end_time": "2023-08-02T10:34:32.932833Z",
          "start_time": "2023-08-02T10:34:32.900850Z"
        },
        "trusted": false
      },
      "id": "86aedbf2",
      "cell_type": "code",
      "source": "y_pred=model_B_1.predict(x_test)",
      "execution_count": 194,
      "outputs": []
    },
    {
      "metadata": {
        "ExecuteTime": {
          "end_time": "2023-08-02T10:36:02.993828Z",
          "start_time": "2023-08-02T10:36:02.956850Z"
        },
        "trusted": false
      },
      "id": "a240b68b",
      "cell_type": "code",
      "source": "from sklearn.metrics import classification_report\nprint(classification_report(y_test,y_pred))",
      "execution_count": 195,
      "outputs": [
        {
          "name": "stdout",
          "output_type": "stream",
          "text": "              precision    recall  f1-score   support\n\n           1       0.71      0.42      0.53        12\n           2       0.78      0.85      0.81        53\n           3       0.53      0.57      0.55        14\n           4       0.00      0.00      0.00         1\n\n    accuracy                           0.73        80\n   macro avg       0.51      0.46      0.47        80\nweighted avg       0.71      0.72      0.71        80\n\n"
        },
        {
          "name": "stderr",
          "output_type": "stream",
          "text": "C:\\Users\\DELL\\anaconda3\\lib\\site-packages\\sklearn\\metrics\\_classification.py:1318: UndefinedMetricWarning: Precision and F-score are ill-defined and being set to 0.0 in labels with no predicted samples. Use `zero_division` parameter to control this behavior.\n  _warn_prf(average, modifier, msg_start, len(result))\nC:\\Users\\DELL\\anaconda3\\lib\\site-packages\\sklearn\\metrics\\_classification.py:1318: UndefinedMetricWarning: Precision and F-score are ill-defined and being set to 0.0 in labels with no predicted samples. Use `zero_division` parameter to control this behavior.\n  _warn_prf(average, modifier, msg_start, len(result))\nC:\\Users\\DELL\\anaconda3\\lib\\site-packages\\sklearn\\metrics\\_classification.py:1318: UndefinedMetricWarning: Precision and F-score are ill-defined and being set to 0.0 in labels with no predicted samples. Use `zero_division` parameter to control this behavior.\n  _warn_prf(average, modifier, msg_start, len(result))\n"
        }
      ]
    },
    {
      "metadata": {
        "ExecuteTime": {
          "end_time": "2023-06-20T11:53:36.843247Z",
          "start_time": "2023-06-20T11:53:36.115380Z"
        }
      },
      "id": "fed85053",
      "cell_type": "markdown",
      "source": "# Fraud Question 2"
    },
    {
      "metadata": {
        "ExecuteTime": {
          "end_time": "2023-08-02T10:43:57.532355Z",
          "start_time": "2023-08-02T10:43:57.490381Z"
        },
        "trusted": false
      },
      "id": "57f9bddc",
      "cell_type": "code",
      "source": "fraud=pd.read_csv('Fraud_check.csv')\nfraud",
      "execution_count": 208,
      "outputs": [
        {
          "data": {
            "text/html": "<div>\n<style scoped>\n    .dataframe tbody tr th:only-of-type {\n        vertical-align: middle;\n    }\n\n    .dataframe tbody tr th {\n        vertical-align: top;\n    }\n\n    .dataframe thead th {\n        text-align: right;\n    }\n</style>\n<table border=\"1\" class=\"dataframe\">\n  <thead>\n    <tr style=\"text-align: right;\">\n      <th></th>\n      <th>Undergrad</th>\n      <th>Marital.Status</th>\n      <th>Taxable.Income</th>\n      <th>City.Population</th>\n      <th>Work.Experience</th>\n      <th>Urban</th>\n    </tr>\n  </thead>\n  <tbody>\n    <tr>\n      <th>0</th>\n      <td>NO</td>\n      <td>Single</td>\n      <td>68833</td>\n      <td>50047</td>\n      <td>10</td>\n      <td>YES</td>\n    </tr>\n    <tr>\n      <th>1</th>\n      <td>YES</td>\n      <td>Divorced</td>\n      <td>33700</td>\n      <td>134075</td>\n      <td>18</td>\n      <td>YES</td>\n    </tr>\n    <tr>\n      <th>2</th>\n      <td>NO</td>\n      <td>Married</td>\n      <td>36925</td>\n      <td>160205</td>\n      <td>30</td>\n      <td>YES</td>\n    </tr>\n    <tr>\n      <th>3</th>\n      <td>YES</td>\n      <td>Single</td>\n      <td>50190</td>\n      <td>193264</td>\n      <td>15</td>\n      <td>YES</td>\n    </tr>\n    <tr>\n      <th>4</th>\n      <td>NO</td>\n      <td>Married</td>\n      <td>81002</td>\n      <td>27533</td>\n      <td>28</td>\n      <td>NO</td>\n    </tr>\n    <tr>\n      <th>...</th>\n      <td>...</td>\n      <td>...</td>\n      <td>...</td>\n      <td>...</td>\n      <td>...</td>\n      <td>...</td>\n    </tr>\n    <tr>\n      <th>595</th>\n      <td>YES</td>\n      <td>Divorced</td>\n      <td>76340</td>\n      <td>39492</td>\n      <td>7</td>\n      <td>YES</td>\n    </tr>\n    <tr>\n      <th>596</th>\n      <td>YES</td>\n      <td>Divorced</td>\n      <td>69967</td>\n      <td>55369</td>\n      <td>2</td>\n      <td>YES</td>\n    </tr>\n    <tr>\n      <th>597</th>\n      <td>NO</td>\n      <td>Divorced</td>\n      <td>47334</td>\n      <td>154058</td>\n      <td>0</td>\n      <td>YES</td>\n    </tr>\n    <tr>\n      <th>598</th>\n      <td>YES</td>\n      <td>Married</td>\n      <td>98592</td>\n      <td>180083</td>\n      <td>17</td>\n      <td>NO</td>\n    </tr>\n    <tr>\n      <th>599</th>\n      <td>NO</td>\n      <td>Divorced</td>\n      <td>96519</td>\n      <td>158137</td>\n      <td>16</td>\n      <td>NO</td>\n    </tr>\n  </tbody>\n</table>\n<p>600 rows × 6 columns</p>\n</div>",
            "text/plain": "    Undergrad Marital.Status  Taxable.Income  City.Population  \\\n0          NO         Single           68833            50047   \n1         YES       Divorced           33700           134075   \n2          NO        Married           36925           160205   \n3         YES         Single           50190           193264   \n4          NO        Married           81002            27533   \n..        ...            ...             ...              ...   \n595       YES       Divorced           76340            39492   \n596       YES       Divorced           69967            55369   \n597        NO       Divorced           47334           154058   \n598       YES        Married           98592           180083   \n599        NO       Divorced           96519           158137   \n\n     Work.Experience Urban  \n0                 10   YES  \n1                 18   YES  \n2                 30   YES  \n3                 15   YES  \n4                 28    NO  \n..               ...   ...  \n595                7   YES  \n596                2   YES  \n597                0   YES  \n598               17    NO  \n599               16    NO  \n\n[600 rows x 6 columns]"
          },
          "execution_count": 208,
          "metadata": {},
          "output_type": "execute_result"
        }
      ]
    },
    {
      "metadata": {
        "ExecuteTime": {
          "end_time": "2023-08-02T10:44:35.695786Z",
          "start_time": "2023-08-02T10:44:35.645219Z"
        },
        "trusted": false
      },
      "id": "cbcb9188",
      "cell_type": "code",
      "source": "fraud[\"TaxStatus\"] = pd.cut(x=fraud['Taxable.Income'], bins = [0,30000,1000000], labels = [\"Risky\", \"Good\"])\nfraud=fraud.drop('Taxable.Income',axis=1)\nfraud",
      "execution_count": 209,
      "outputs": [
        {
          "data": {
            "text/html": "<div>\n<style scoped>\n    .dataframe tbody tr th:only-of-type {\n        vertical-align: middle;\n    }\n\n    .dataframe tbody tr th {\n        vertical-align: top;\n    }\n\n    .dataframe thead th {\n        text-align: right;\n    }\n</style>\n<table border=\"1\" class=\"dataframe\">\n  <thead>\n    <tr style=\"text-align: right;\">\n      <th></th>\n      <th>Undergrad</th>\n      <th>Marital.Status</th>\n      <th>City.Population</th>\n      <th>Work.Experience</th>\n      <th>Urban</th>\n      <th>TaxStatus</th>\n    </tr>\n  </thead>\n  <tbody>\n    <tr>\n      <th>0</th>\n      <td>NO</td>\n      <td>Single</td>\n      <td>50047</td>\n      <td>10</td>\n      <td>YES</td>\n      <td>Good</td>\n    </tr>\n    <tr>\n      <th>1</th>\n      <td>YES</td>\n      <td>Divorced</td>\n      <td>134075</td>\n      <td>18</td>\n      <td>YES</td>\n      <td>Good</td>\n    </tr>\n    <tr>\n      <th>2</th>\n      <td>NO</td>\n      <td>Married</td>\n      <td>160205</td>\n      <td>30</td>\n      <td>YES</td>\n      <td>Good</td>\n    </tr>\n    <tr>\n      <th>3</th>\n      <td>YES</td>\n      <td>Single</td>\n      <td>193264</td>\n      <td>15</td>\n      <td>YES</td>\n      <td>Good</td>\n    </tr>\n    <tr>\n      <th>4</th>\n      <td>NO</td>\n      <td>Married</td>\n      <td>27533</td>\n      <td>28</td>\n      <td>NO</td>\n      <td>Good</td>\n    </tr>\n    <tr>\n      <th>...</th>\n      <td>...</td>\n      <td>...</td>\n      <td>...</td>\n      <td>...</td>\n      <td>...</td>\n      <td>...</td>\n    </tr>\n    <tr>\n      <th>595</th>\n      <td>YES</td>\n      <td>Divorced</td>\n      <td>39492</td>\n      <td>7</td>\n      <td>YES</td>\n      <td>Good</td>\n    </tr>\n    <tr>\n      <th>596</th>\n      <td>YES</td>\n      <td>Divorced</td>\n      <td>55369</td>\n      <td>2</td>\n      <td>YES</td>\n      <td>Good</td>\n    </tr>\n    <tr>\n      <th>597</th>\n      <td>NO</td>\n      <td>Divorced</td>\n      <td>154058</td>\n      <td>0</td>\n      <td>YES</td>\n      <td>Good</td>\n    </tr>\n    <tr>\n      <th>598</th>\n      <td>YES</td>\n      <td>Married</td>\n      <td>180083</td>\n      <td>17</td>\n      <td>NO</td>\n      <td>Good</td>\n    </tr>\n    <tr>\n      <th>599</th>\n      <td>NO</td>\n      <td>Divorced</td>\n      <td>158137</td>\n      <td>16</td>\n      <td>NO</td>\n      <td>Good</td>\n    </tr>\n  </tbody>\n</table>\n<p>600 rows × 6 columns</p>\n</div>",
            "text/plain": "    Undergrad Marital.Status  City.Population  Work.Experience Urban TaxStatus\n0          NO         Single            50047               10   YES      Good\n1         YES       Divorced           134075               18   YES      Good\n2          NO        Married           160205               30   YES      Good\n3         YES         Single           193264               15   YES      Good\n4          NO        Married            27533               28    NO      Good\n..        ...            ...              ...              ...   ...       ...\n595       YES       Divorced            39492                7   YES      Good\n596       YES       Divorced            55369                2   YES      Good\n597        NO       Divorced           154058                0   YES      Good\n598       YES        Married           180083               17    NO      Good\n599        NO       Divorced           158137               16    NO      Good\n\n[600 rows x 6 columns]"
          },
          "execution_count": 209,
          "metadata": {},
          "output_type": "execute_result"
        }
      ]
    },
    {
      "metadata": {
        "ExecuteTime": {
          "end_time": "2023-08-02T10:44:42.183388Z",
          "start_time": "2023-08-02T10:44:42.144637Z"
        },
        "trusted": false
      },
      "id": "3d5b2509",
      "cell_type": "code",
      "source": "from sklearn import preprocessing\nlabel_encoder = preprocessing.LabelEncoder()\nfraud['Undergrad']= label_encoder.fit_transform(fraud['Undergrad'])\nfraud['Marital.Status']= label_encoder.fit_transform(fraud['Marital.Status'])\nfraud['Urban']= label_encoder.fit_transform(fraud['Urban'])\nfraud['TaxStatus']= label_encoder.fit_transform(fraud['TaxStatus'])\nfraud",
      "execution_count": 210,
      "outputs": [
        {
          "data": {
            "text/html": "<div>\n<style scoped>\n    .dataframe tbody tr th:only-of-type {\n        vertical-align: middle;\n    }\n\n    .dataframe tbody tr th {\n        vertical-align: top;\n    }\n\n    .dataframe thead th {\n        text-align: right;\n    }\n</style>\n<table border=\"1\" class=\"dataframe\">\n  <thead>\n    <tr style=\"text-align: right;\">\n      <th></th>\n      <th>Undergrad</th>\n      <th>Marital.Status</th>\n      <th>City.Population</th>\n      <th>Work.Experience</th>\n      <th>Urban</th>\n      <th>TaxStatus</th>\n    </tr>\n  </thead>\n  <tbody>\n    <tr>\n      <th>0</th>\n      <td>0</td>\n      <td>2</td>\n      <td>50047</td>\n      <td>10</td>\n      <td>1</td>\n      <td>0</td>\n    </tr>\n    <tr>\n      <th>1</th>\n      <td>1</td>\n      <td>0</td>\n      <td>134075</td>\n      <td>18</td>\n      <td>1</td>\n      <td>0</td>\n    </tr>\n    <tr>\n      <th>2</th>\n      <td>0</td>\n      <td>1</td>\n      <td>160205</td>\n      <td>30</td>\n      <td>1</td>\n      <td>0</td>\n    </tr>\n    <tr>\n      <th>3</th>\n      <td>1</td>\n      <td>2</td>\n      <td>193264</td>\n      <td>15</td>\n      <td>1</td>\n      <td>0</td>\n    </tr>\n    <tr>\n      <th>4</th>\n      <td>0</td>\n      <td>1</td>\n      <td>27533</td>\n      <td>28</td>\n      <td>0</td>\n      <td>0</td>\n    </tr>\n    <tr>\n      <th>...</th>\n      <td>...</td>\n      <td>...</td>\n      <td>...</td>\n      <td>...</td>\n      <td>...</td>\n      <td>...</td>\n    </tr>\n    <tr>\n      <th>595</th>\n      <td>1</td>\n      <td>0</td>\n      <td>39492</td>\n      <td>7</td>\n      <td>1</td>\n      <td>0</td>\n    </tr>\n    <tr>\n      <th>596</th>\n      <td>1</td>\n      <td>0</td>\n      <td>55369</td>\n      <td>2</td>\n      <td>1</td>\n      <td>0</td>\n    </tr>\n    <tr>\n      <th>597</th>\n      <td>0</td>\n      <td>0</td>\n      <td>154058</td>\n      <td>0</td>\n      <td>1</td>\n      <td>0</td>\n    </tr>\n    <tr>\n      <th>598</th>\n      <td>1</td>\n      <td>1</td>\n      <td>180083</td>\n      <td>17</td>\n      <td>0</td>\n      <td>0</td>\n    </tr>\n    <tr>\n      <th>599</th>\n      <td>0</td>\n      <td>0</td>\n      <td>158137</td>\n      <td>16</td>\n      <td>0</td>\n      <td>0</td>\n    </tr>\n  </tbody>\n</table>\n<p>600 rows × 6 columns</p>\n</div>",
            "text/plain": "     Undergrad  Marital.Status  City.Population  Work.Experience  Urban  \\\n0            0               2            50047               10      1   \n1            1               0           134075               18      1   \n2            0               1           160205               30      1   \n3            1               2           193264               15      1   \n4            0               1            27533               28      0   \n..         ...             ...              ...              ...    ...   \n595          1               0            39492                7      1   \n596          1               0            55369                2      1   \n597          0               0           154058                0      1   \n598          1               1           180083               17      0   \n599          0               0           158137               16      0   \n\n     TaxStatus  \n0            0  \n1            0  \n2            0  \n3            0  \n4            0  \n..         ...  \n595          0  \n596          0  \n597          0  \n598          0  \n599          0  \n\n[600 rows x 6 columns]"
          },
          "execution_count": 210,
          "metadata": {},
          "output_type": "execute_result"
        }
      ]
    },
    {
      "metadata": {
        "ExecuteTime": {
          "end_time": "2023-08-02T10:45:13.518782Z",
          "start_time": "2023-08-02T10:45:13.496794Z"
        },
        "trusted": false
      },
      "id": "c2bba7ff",
      "cell_type": "code",
      "source": "X2=fraud.drop(['TaxStatus'],axis=1)\nY2=fraud['TaxStatus']",
      "execution_count": 211,
      "outputs": []
    },
    {
      "metadata": {
        "ExecuteTime": {
          "end_time": "2023-08-02T10:45:21.639112Z",
          "start_time": "2023-08-02T10:45:19.019178Z"
        },
        "trusted": false
      },
      "id": "20a8d68d",
      "cell_type": "code",
      "source": "seed=7\nkfold=KFold(n_splits=10,random_state=seed,shuffle=True)\ncart=DecisionTreeClassifier()\nnum_trees=50\nmodel_B_2=BaggingClassifier(base_estimator=cart,n_estimators=num_trees,random_state=seed)\nresult=cross_val_score(model_B_2,X2,Y2,cv=kfold)\nprint(result.mean())",
      "execution_count": 212,
      "outputs": [
        {
          "name": "stdout",
          "output_type": "stream",
          "text": "0.7383333333333333\n"
        }
      ]
    },
    {
      "metadata": {
        "ExecuteTime": {
          "end_time": "2023-08-02T10:45:26.917364Z",
          "start_time": "2023-08-02T10:45:24.757749Z"
        },
        "trusted": false
      },
      "id": "0bb67a5e",
      "cell_type": "code",
      "source": "num_trees=50 \nkFold=KFold(n_splits=10,random_state=seed,shuffle=True)\nmodel_RF_2=RandomForestClassifier(n_estimators=num_trees,max_features=3)\nResult=cross_val_score(model_RF_2,X2,Y2,cv=kFold)\nprint(Result.mean())",
      "execution_count": 213,
      "outputs": [
        {
          "name": "stdout",
          "output_type": "stream",
          "text": "0.7483333333333333\n"
        }
      ]
    },
    {
      "metadata": {
        "ExecuteTime": {
          "end_time": "2023-08-02T10:45:58.357573Z",
          "start_time": "2023-08-02T10:45:58.340585Z"
        },
        "trusted": false
      },
      "id": "0223d96f",
      "cell_type": "code",
      "source": "X2_train,X2_test,Y2_train,Y2_test=train_test_split(X2,Y2,test_size=0.25,random_state=7)",
      "execution_count": 215,
      "outputs": []
    },
    {
      "metadata": {
        "ExecuteTime": {
          "end_time": "2023-08-02T10:46:01.350641Z",
          "start_time": "2023-08-02T10:46:01.129354Z"
        },
        "trusted": false
      },
      "id": "89ed258e",
      "cell_type": "code",
      "source": "model_RF_2.fit(X2_train,Y2_train)",
      "execution_count": 216,
      "outputs": [
        {
          "data": {
            "text/plain": "RandomForestClassifier(max_features=3, n_estimators=50)"
          },
          "execution_count": 216,
          "metadata": {},
          "output_type": "execute_result"
        }
      ]
    },
    {
      "metadata": {
        "ExecuteTime": {
          "end_time": "2023-08-02T10:46:10.540181Z",
          "start_time": "2023-08-02T10:46:10.513560Z"
        },
        "trusted": false
      },
      "id": "93dae67b",
      "cell_type": "code",
      "source": "model_RF_2.feature_importances_",
      "execution_count": 217,
      "outputs": [
        {
          "data": {
            "text/plain": "array([0.04308774, 0.08278371, 0.55203717, 0.2746524 , 0.04743898])"
          },
          "execution_count": 217,
          "metadata": {},
          "output_type": "execute_result"
        }
      ]
    },
    {
      "metadata": {
        "ExecuteTime": {
          "end_time": "2023-08-02T10:47:00.024157Z",
          "start_time": "2023-08-02T10:46:59.990170Z"
        },
        "trusted": false
      },
      "id": "867a9c61",
      "cell_type": "code",
      "source": "y_pred_2=model_RF_2.predict(X2_test)",
      "execution_count": 218,
      "outputs": []
    },
    {
      "metadata": {
        "ExecuteTime": {
          "end_time": "2023-08-02T10:47:29.890334Z",
          "start_time": "2023-08-02T10:47:29.872343Z"
        },
        "trusted": false
      },
      "id": "de2d9d5c",
      "cell_type": "code",
      "source": "print(classification_report(Y2_test,y_pred_2))",
      "execution_count": 219,
      "outputs": [
        {
          "name": "stdout",
          "output_type": "stream",
          "text": "              precision    recall  f1-score   support\n\n           0       0.79      0.96      0.86       119\n           1       0.00      0.00      0.00        31\n\n    accuracy                           0.76       150\n   macro avg       0.39      0.48      0.43       150\nweighted avg       0.62      0.76      0.69       150\n\n"
        }
      ]
    }
  ],
  "metadata": {
    "kernelspec": {
      "name": "python3",
      "display_name": "Python 3 (ipykernel)",
      "language": "python"
    },
    "language_info": {
      "name": "python",
      "version": "3.9.12",
      "mimetype": "text/x-python",
      "codemirror_mode": {
        "name": "ipython",
        "version": 3
      },
      "pygments_lexer": "ipython3",
      "nbconvert_exporter": "python",
      "file_extension": ".py"
    },
    "gist": {
      "id": "",
      "data": {
        "description": "Assignment 15 Random Forest.ipynb",
        "public": true
      }
    }
  },
  "nbformat": 4,
  "nbformat_minor": 5
}